{
 "cells": [
  {
   "cell_type": "code",
   "execution_count": 3,
   "id": "d6cc1e82",
   "metadata": {},
   "outputs": [
    {
     "name": "stdout",
     "output_type": "stream",
     "text": [
      "HKEY_LOCAL_MACHINE\\SOFTWARE\\Microsoft\\Speech\\Voices\\Tokens\\TTS_MS_EN-US_ZIRA_11.0\n"
     ]
    }
   ],
   "source": [
    "import pyttsx3 as pt\n",
    "import datetime\n",
    "engine=pt.init('sapi5')          # can be used to take voice.\n",
    "voices=engine.getProperty('voices')\n",
    "\n",
    "print(voices[1].id)\n",
    "engine.setProperty('voice',voices[0].id)     #\n",
    "\n",
    "def speak(audio):\n",
    "    engine.say(audio)\n",
    "    engine.runAndWait()               # if you don't write this command then the speech will not be audible to you. will make the speech audible in the system.\n",
    "\n",
    "def wishme():\n",
    "    hour = int(datetime.datetime.now().hour)\n",
    "    if hour>=0 and hour<12:\n",
    "        speak(\"Good Morning!\")\n",
    "\n",
    "    elif hour>=12 and hour<18:\n",
    "        speak(\"Good Afternoon!\")   \n",
    "\n",
    "    else:\n",
    "        speak(\"Good Evening!\")  \n",
    "    speak(\"I am Jarvis Sir. Please tell me how may I help you\")   \n",
    "    \n",
    "    \n",
    "if __name__ == \"__main__\":\n",
    "    speak(\"Hi Newton\")\n",
    "    wishme()"
   ]
  }
 ],
 "metadata": {
  "kernelspec": {
   "display_name": "Python 3 (ipykernel)",
   "language": "python",
   "name": "python3"
  },
  "language_info": {
   "codemirror_mode": {
    "name": "ipython",
    "version": 3
   },
   "file_extension": ".py",
   "mimetype": "text/x-python",
   "name": "python",
   "nbconvert_exporter": "python",
   "pygments_lexer": "ipython3",
   "version": "3.9.7"
  }
 },
 "nbformat": 4,
 "nbformat_minor": 5
}

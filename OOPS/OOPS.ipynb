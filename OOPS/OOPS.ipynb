{
 "cells": [
  {
   "cell_type": "code",
   "execution_count": 8,
   "id": "cedc7d00",
   "metadata": {},
   "outputs": [
    {
     "name": "stdout",
     "output_type": "stream",
     "text": [
      "first name is Corey and last name is Schafer\n",
      "first name is Test and last name is Employee\n",
      "first name is Test and last name is is is is Employee\n",
      "first name is Corey and last name is is is is Schafer\n"
     ]
    }
   ],
   "source": [
    "class Employee:\n",
    "\n",
    "    def __init__(self, first, last, pay):\n",
    "        self.first = first\n",
    "        self.last = last\n",
    "        self.email = first + '.' + last + '@email.com'\n",
    "        self.pay = pay\n",
    "\n",
    "    def fullname(self):\n",
    "        return 'first name is {} and last name is {}'.format(self.first, self.last)\n",
    "    \n",
    "    \n",
    "    def name(self):\n",
    "        return f\"first name is {self.first} and last name is is is is {self.last}\"\n",
    "\n",
    "emp_1 = Employee('Corey', 'Schafer', 50000)\n",
    "emp_2 = Employee('Test', 'Employee', 60000)\n",
    "\n",
    "print(emp_1.fullname())\n",
    "print(emp_2.fullname())\n",
    "print(emp_2.name())\n",
    "print(Employee.name(emp_1))"
   ]
  },
  {
   "cell_type": "code",
   "execution_count": 27,
   "id": "f236ca4f",
   "metadata": {},
   "outputs": [
    {
     "name": "stdout",
     "output_type": "stream",
     "text": [
      "50000\n",
      "52000.0\n",
      "7\n",
      "4.6\n",
      "4.6\n",
      "{'first': 'Corey', 'last': 'Schafer', 'email': 'Corey.Schafer@email.com', 'pay': 52000.0, 'raise_percent': 7}\n",
      "\n",
      "Gap is there\n",
      "\n",
      "{'__module__': '__main__', 'raise_percent': 4.6, 'num_of_emp': 2, '__init__': <function Employee.__init__ at 0x000001906D90A4C0>, 'fullname': <function Employee.fullname at 0x000001906D90AF70>, 'name': <function Employee.name at 0x000001906D910AF0>, 'raises': <function Employee.raises at 0x000001906D910A60>, '__dict__': <attribute '__dict__' of 'Employee' objects>, '__weakref__': <attribute '__weakref__' of 'Employee' objects>, '__doc__': None}\n",
      "\n",
      "\n",
      "The total number of employees are  :  2\n"
     ]
    }
   ],
   "source": [
    "class Employee:\n",
    "    raise_percent=1.04\n",
    "    num_of_emp=0 #keep track of the number of instances created.\n",
    "    \n",
    "    def __init__(self, first, last, pay):\n",
    "        self.first = first\n",
    "        self.last = last\n",
    "        self.email = first + '.' + last + '@email.com'\n",
    "        self.pay = pay\n",
    "        Employee.num_of_emp+=1 #\n",
    "\n",
    "    def fullname(self):\n",
    "        return 'first name is {} and last name is {}'.format(self.first, self.last)\n",
    "    \n",
    "    \n",
    "    def name(self):\n",
    "        return f\"first name is {self.first} and last name is is is is {self.last}\"\n",
    "    \n",
    "    def raises(self):\n",
    "        self.pay=self.pay*self.raise_percent\n",
    "\n",
    "emp_1 = Employee('Corey', 'Schafer', 50000)\n",
    "emp_2 = Employee('Test', 'Employee', 60000)\n",
    "\n",
    "print(emp_1.pay)\n",
    "emp_1.raises()\n",
    "print(emp_1.pay)\n",
    "\n",
    "emp_1.raise_percent=7\n",
    "\n",
    "Employee.raise_percent=4.6\n",
    "\n",
    "print(emp_1.raise_percent) # It will first check if the instance contains that atribute. if not, it will then check if the class contains that attribute. otherwise it will raise a fault.\n",
    "print(Employee.raise_percent)\n",
    "print(emp_2.raise_percent)\n",
    "print(emp_1.__dict__)\n",
    "print(\"\\nGap is there\\n\")\n",
    "print(Employee.__dict__)\n",
    "\n",
    "print(\"\\n\")\n",
    "\n",
    "print(\"The total number of employees are  :  \"+str(Employee.num_of_emp))\n",
    "# NOTE: in the function def raises, if we do self.raises, then it will do it for the instance one. but if instead we had done the Employee then it will use the class one.\n",
    "# basically,difference between instance and class amount."
   ]
  },
  {
   "cell_type": "markdown",
   "id": "a008760f",
   "metadata": {},
   "source": [
    "# Class Method"
   ]
  },
  {
   "cell_type": "code",
   "execution_count": 34,
   "id": "4ae90a58",
   "metadata": {},
   "outputs": [
    {
     "name": "stdout",
     "output_type": "stream",
     "text": [
      "1.04\n",
      "1.04\n",
      "1.06\n",
      "1.06\n",
      "1.07\n",
      "1.06\n"
     ]
    }
   ],
   "source": [
    "class Employee:\n",
    "    raise_amount=1.04\n",
    "    \n",
    "    def __init__(self, first, last, pay):\n",
    "        self.first = first\n",
    "        self.last = last\n",
    "        self.email = first + '.' + last + '@email.com'\n",
    "        self.pay = pay\n",
    "\n",
    "    def fullname(self):\n",
    "        return 'first name is {} and last name is {}'.format(self.first, self.last)\n",
    "    \n",
    "    \n",
    "    def name(self):\n",
    "        return f\"first name is {self.first} and last name is is is is {self.last}\"\n",
    "    \n",
    "    @classmethod  #to change the class related stuff.\n",
    "    def set_raise_amount(cls,amount):\n",
    "        cls.raise_amount=amount\n",
    "\n",
    "emp_1 = Employee('Corey', 'Schafer', 50000)\n",
    "emp_2 = Employee('Test', 'Employee', 60000)\n",
    "\n",
    "print(emp_1.raise_amount)\n",
    "print(emp_2.raise_amount)\n",
    "\n",
    "Employee.set_raise_amount(1.06) # it automatically accepts the class as input.\n",
    "# also, even of you do emp1.set_raise_amount(1.06) instead of EMployee.set_raise_amount(1.05), then again it will set the class details\n",
    "\n",
    "\n",
    "print(emp_1.raise_amount)\n",
    "print(emp_2.raise_amount)\n",
    "\n",
    "emp_1.raise_amount=1.07 # this is like, we have overwritten the value of the raise_amount. now even if we try changing it, via that Employee. function,it wont change. while calling these variables it first checks if the instance has it defind. if not, then it will use its value that is there in its class.\n",
    "\n",
    "\n",
    "print(emp_1.raise_amount)\n",
    "print(emp_2.raise_amount)\n",
    "\n",
    "\n"
   ]
  },
  {
   "cell_type": "code",
   "execution_count": null,
   "id": "6779c89a",
   "metadata": {},
   "outputs": [],
   "source": []
  }
 ],
 "metadata": {
  "kernelspec": {
   "display_name": "Python 3 (ipykernel)",
   "language": "python",
   "name": "python3"
  },
  "language_info": {
   "codemirror_mode": {
    "name": "ipython",
    "version": 3
   },
   "file_extension": ".py",
   "mimetype": "text/x-python",
   "name": "python",
   "nbconvert_exporter": "python",
   "pygments_lexer": "ipython3",
   "version": "3.9.7"
  }
 },
 "nbformat": 4,
 "nbformat_minor": 5
}

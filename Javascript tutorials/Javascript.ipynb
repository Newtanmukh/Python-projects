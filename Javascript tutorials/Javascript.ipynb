{
 "cells": [
  {
   "cell_type": "code",
   "execution_count": 1,
   "id": "d3f7dfce",
   "metadata": {},
   "outputs": [
    {
     "data": {
      "application/javascript": [
       "alert('Hello World')\n"
      ],
      "text/plain": [
       "<IPython.core.display.Javascript object>"
      ]
     },
     "metadata": {},
     "output_type": "display_data"
    }
   ],
   "source": [
    "%%js\n",
    "alert('Hello World')"
   ]
  },
  {
   "cell_type": "code",
   "execution_count": 4,
   "id": "8405dbcd",
   "metadata": {},
   "outputs": [
    {
     "data": {
      "application/javascript": [
       "// inline comment\n",
       "/*comment*/\n"
      ],
      "text/plain": [
       "<IPython.core.display.Javascript object>"
      ]
     },
     "metadata": {},
     "output_type": "display_data"
    }
   ],
   "source": [
    "%%js\n",
    "// inline comment\n",
    "/*comment*/"
   ]
  },
  {
   "cell_type": "code",
   "execution_count": 6,
   "id": "575f9ebf",
   "metadata": {},
   "outputs": [
    {
     "data": {
      "application/javascript": [
       "var num=5\n"
      ],
      "text/plain": [
       "<IPython.core.display.Javascript object>"
      ]
     },
     "metadata": {},
     "output_type": "display_data"
    }
   ],
   "source": [
    "%%js\n",
    "var num=5"
   ]
  },
  {
   "cell_type": "code",
   "execution_count": null,
   "id": "241924bc",
   "metadata": {},
   "outputs": [],
   "source": [
    "%%js\n",
    "console.log(``)"
   ]
  }
 ],
 "metadata": {
  "kernelspec": {
   "display_name": "Python 3 (ipykernel)",
   "language": "python",
   "name": "python3"
  },
  "language_info": {
   "codemirror_mode": {
    "name": "ipython",
    "version": 3
   },
   "file_extension": ".py",
   "mimetype": "text/x-python",
   "name": "python",
   "nbconvert_exporter": "python",
   "pygments_lexer": "ipython3",
   "version": "3.9.7"
  }
 },
 "nbformat": 4,
 "nbformat_minor": 5
}

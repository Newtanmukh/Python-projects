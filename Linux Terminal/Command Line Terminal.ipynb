{
 "cells": [
  {
   "cell_type": "code",
   "execution_count": 1,
   "id": "57503c76",
   "metadata": {},
   "outputs": [],
   "source": [
    "import os"
   ]
  },
  {
   "cell_type": "code",
   "execution_count": 2,
   "id": "fe1c5ae2",
   "metadata": {},
   "outputs": [
    {
     "name": "stdout",
     "output_type": "stream",
     "text": [
      "Please input the folder pathname.\n",
      "\n",
      "The path address is : E:\\test\n"
     ]
    }
   ],
   "source": [
    "print(\"Please input the folder pathname.\\n\")\n",
    "path=str(input(\"The path address is : \"))\n"
   ]
  },
  {
   "cell_type": "code",
   "execution_count": null,
   "id": "cfb258ab",
   "metadata": {},
   "outputs": [],
   "source": [
    "\n",
    "\n",
    "\n",
    "\n",
    "\n",
    "\n",
    "\n",
    "\n",
    "\n",
    "\n",
    "\n",
    "\n",
    "\n",
    "\n",
    "\n",
    "\n",
    "while True:\n",
    "    command=str(input(\"Please enter the command : \"))\n",
    "    if 'show' in command:\n",
    "        pass\n",
    "    if 'show all' in command :\n",
    "        pass\n",
    "    if 'back' in command:\n",
    "        pass\n",
    "    if 'delete file' in command:\n",
    "        pass\n",
    "    if 'delete directory' in command:\n",
    "        "
   ]
  }
 ],
 "metadata": {
  "kernelspec": {
   "display_name": "Python 3 (ipykernel)",
   "language": "python",
   "name": "python3"
  },
  "language_info": {
   "codemirror_mode": {
    "name": "ipython",
    "version": 3
   },
   "file_extension": ".py",
   "mimetype": "text/x-python",
   "name": "python",
   "nbconvert_exporter": "python",
   "pygments_lexer": "ipython3",
   "version": "3.9.7"
  }
 },
 "nbformat": 4,
 "nbformat_minor": 5
}

{
 "cells": [
  {
   "cell_type": "markdown",
   "id": "6b85660e",
   "metadata": {},
   "source": [
    "# Import packages\n"
   ]
  },
  {
   "cell_type": "code",
   "execution_count": 1,
   "id": "9644260e",
   "metadata": {},
   "outputs": [],
   "source": [
    "import pandas as pd\n",
    "import numpy as np\n",
    "import os"
   ]
  },
  {
   "cell_type": "code",
   "execution_count": 2,
   "id": "8b53457a",
   "metadata": {},
   "outputs": [],
   "source": [
    "all_rows=pd.DataFrame()\n",
    "\n",
    "def print_rows_print_file(num):\n",
    "    global all_rows\n",
    "    files=[file for file in os.listdir('./Sales_Data')]\n",
    "    num=str(num)\n",
    "    for file in files:\n",
    "        df=pd.read_csv('./Sales_Data/'+file)\n",
    "        find_df=df[df['Order ID']==num]\n",
    "        if len(find_df) > 0:\n",
    "            print(\"Row found in file name : \" + file)\n",
    "            all_rows=pd.concat([all_rows,find_df])\n",
    "        else:\n",
    "            continue\n",
    "    if len(all_rows)==0:\n",
    "        print(\"This row could not be found in any of the files\")\n",
    "    else:\n",
    "        print(\"The number of such rows found are : \"+ str(len(all_rows)))\n",
    "        print(\"And The rows are : \")\n",
    "        print(all_rows)\n",
    "        "
   ]
  },
  {
   "cell_type": "code",
   "execution_count": 3,
   "id": "ecbe1fa0",
   "metadata": {},
   "outputs": [
    {
     "name": "stdout",
     "output_type": "stream",
     "text": [
      "Row found in file name : Sales_June_2019.csv\n",
      "Row found in file name : Sales_May_2019.csv\n",
      "Row found in file name : Sales_October_2019.csv\n",
      "The number of such rows found are : 4\n",
      "And The rows are : \n",
      "   Order ID                   Product Quantity Ordered Price Each  \\\n",
      "51        9  Apple Airpods Headphones                1        150   \n",
      "4         9    AAA Batteries (4-pack)                2       2.99   \n",
      "3         9          27in FHD Monitor                1     149.99   \n",
      "9         9  Apple Airpods Headphones                1        150   \n",
      "\n",
      "          Order Date                           Purchase Address  \n",
      "51    06/23/19 13:06            120 Church St, Dallas, TX 75001  \n",
      "4   05-11-2019 22:55            17 Church St, Seattle, WA 98101  \n",
      "3     10/14/19 22:26  628 Jefferson St, New York City, NY 10001  \n",
      "9     10/16/19 16:19       742 14th St, San Francisco, CA 94016  \n"
     ]
    }
   ],
   "source": [
    "print_rows_print_file(9)"
   ]
  },
  {
   "cell_type": "code",
   "execution_count": 4,
   "id": "9a43f138",
   "metadata": {},
   "outputs": [
    {
     "data": {
      "text/html": [
       "<div>\n",
       "<style scoped>\n",
       "    .dataframe tbody tr th:only-of-type {\n",
       "        vertical-align: middle;\n",
       "    }\n",
       "\n",
       "    .dataframe tbody tr th {\n",
       "        vertical-align: top;\n",
       "    }\n",
       "\n",
       "    .dataframe thead th {\n",
       "        text-align: right;\n",
       "    }\n",
       "</style>\n",
       "<table border=\"1\" class=\"dataframe\">\n",
       "  <thead>\n",
       "    <tr style=\"text-align: right;\">\n",
       "      <th></th>\n",
       "      <th>Order ID</th>\n",
       "      <th>Product</th>\n",
       "      <th>Quantity Ordered</th>\n",
       "      <th>Price Each</th>\n",
       "      <th>Order Date</th>\n",
       "      <th>Purchase Address</th>\n",
       "    </tr>\n",
       "  </thead>\n",
       "  <tbody>\n",
       "    <tr>\n",
       "      <th>51</th>\n",
       "      <td>9</td>\n",
       "      <td>Apple Airpods Headphones</td>\n",
       "      <td>1</td>\n",
       "      <td>150</td>\n",
       "      <td>06/23/19 13:06</td>\n",
       "      <td>120 Church St, Dallas, TX 75001</td>\n",
       "    </tr>\n",
       "    <tr>\n",
       "      <th>4</th>\n",
       "      <td>9</td>\n",
       "      <td>AAA Batteries (4-pack)</td>\n",
       "      <td>2</td>\n",
       "      <td>2.99</td>\n",
       "      <td>05-11-2019 22:55</td>\n",
       "      <td>17 Church St, Seattle, WA 98101</td>\n",
       "    </tr>\n",
       "    <tr>\n",
       "      <th>3</th>\n",
       "      <td>9</td>\n",
       "      <td>27in FHD Monitor</td>\n",
       "      <td>1</td>\n",
       "      <td>149.99</td>\n",
       "      <td>10/14/19 22:26</td>\n",
       "      <td>628 Jefferson St, New York City, NY 10001</td>\n",
       "    </tr>\n",
       "    <tr>\n",
       "      <th>9</th>\n",
       "      <td>9</td>\n",
       "      <td>Apple Airpods Headphones</td>\n",
       "      <td>1</td>\n",
       "      <td>150</td>\n",
       "      <td>10/16/19 16:19</td>\n",
       "      <td>742 14th St, San Francisco, CA 94016</td>\n",
       "    </tr>\n",
       "  </tbody>\n",
       "</table>\n",
       "</div>"
      ],
      "text/plain": [
       "   Order ID                   Product Quantity Ordered Price Each  \\\n",
       "51        9  Apple Airpods Headphones                1        150   \n",
       "4         9    AAA Batteries (4-pack)                2       2.99   \n",
       "3         9          27in FHD Monitor                1     149.99   \n",
       "9         9  Apple Airpods Headphones                1        150   \n",
       "\n",
       "          Order Date                           Purchase Address  \n",
       "51    06/23/19 13:06            120 Church St, Dallas, TX 75001  \n",
       "4   05-11-2019 22:55            17 Church St, Seattle, WA 98101  \n",
       "3     10/14/19 22:26  628 Jefferson St, New York City, NY 10001  \n",
       "9     10/16/19 16:19       742 14th St, San Francisco, CA 94016  "
      ]
     },
     "execution_count": 4,
     "metadata": {},
     "output_type": "execute_result"
    }
   ],
   "source": [
    "all_rows.head()"
   ]
  },
  {
   "cell_type": "code",
   "execution_count": null,
   "id": "7bf63d02",
   "metadata": {},
   "outputs": [],
   "source": []
  },
  {
   "cell_type": "code",
   "execution_count": null,
   "id": "be1eca6d",
   "metadata": {},
   "outputs": [],
   "source": []
  },
  {
   "cell_type": "code",
   "execution_count": null,
   "id": "394e9963",
   "metadata": {},
   "outputs": [],
   "source": []
  },
  {
   "cell_type": "code",
   "execution_count": null,
   "id": "be9ed3b8",
   "metadata": {},
   "outputs": [],
   "source": []
  },
  {
   "cell_type": "code",
   "execution_count": null,
   "id": "042ddefb",
   "metadata": {},
   "outputs": [],
   "source": []
  },
  {
   "cell_type": "code",
   "execution_count": null,
   "id": "49a69d5d",
   "metadata": {},
   "outputs": [],
   "source": []
  },
  {
   "cell_type": "code",
   "execution_count": null,
   "id": "1f8e62f3",
   "metadata": {},
   "outputs": [],
   "source": []
  },
  {
   "cell_type": "code",
   "execution_count": null,
   "id": "475bb9ce",
   "metadata": {},
   "outputs": [],
   "source": []
  },
  {
   "cell_type": "code",
   "execution_count": null,
   "id": "2ed94c4d",
   "metadata": {},
   "outputs": [],
   "source": []
  },
  {
   "cell_type": "code",
   "execution_count": null,
   "id": "e43aca48",
   "metadata": {},
   "outputs": [],
   "source": []
  },
  {
   "cell_type": "code",
   "execution_count": null,
   "id": "4cea6b85",
   "metadata": {},
   "outputs": [],
   "source": []
  },
  {
   "cell_type": "code",
   "execution_count": null,
   "id": "2f34a4a4",
   "metadata": {},
   "outputs": [],
   "source": []
  }
 ],
 "metadata": {
  "kernelspec": {
   "display_name": "Python 3 (ipykernel)",
   "language": "python",
   "name": "python3"
  },
  "language_info": {
   "codemirror_mode": {
    "name": "ipython",
    "version": 3
   },
   "file_extension": ".py",
   "mimetype": "text/x-python",
   "name": "python",
   "nbconvert_exporter": "python",
   "pygments_lexer": "ipython3",
   "version": "3.10.1"
  }
 },
 "nbformat": 4,
 "nbformat_minor": 5
}

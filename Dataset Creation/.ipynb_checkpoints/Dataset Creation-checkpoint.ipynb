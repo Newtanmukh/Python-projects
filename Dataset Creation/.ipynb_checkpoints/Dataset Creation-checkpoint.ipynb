{
 "cells": [
  {
   "cell_type": "code",
   "execution_count": 10,
   "id": "1241c4ff",
   "metadata": {},
   "outputs": [
    {
     "name": "stdout",
     "output_type": "stream",
     "text": [
      "['iPhone', 'Google Phone', 'Vareebadd Phone', '20in Monitor', '34in Ultrawide Monitor', '27in 4K Gaming Monitor', '27in FHD Monitor', 'Flatscreen TV', 'Macbook Pro Laptop', 'ThinkPad Laptop', 'AA Batteries (4-pack)', 'AAA Batteries (4-pack)', 'USB-C Charging Cable', 'Lightning Charging Cable', 'Wired Headphones', 'Bose SoundSport Headphones', 'Apple Airpods Headphones', 'LG Washing Machine', 'LG Dryer']\n",
      "[10, 8, 3, 6, 9, 9, 11, 7, 7, 6, 30, 30, 30, 30, 26, 19, 22, 1, 1]\n"
     ]
    }
   ],
   "source": [
    "import pandas as pd\n",
    "import numpy as np\n",
    "import datetime\n",
    "import random\n",
    "import calender\n",
    "\n",
    "products={\n",
    "    #Product : Price\n",
    "    \n",
    "          'iPhone': [700, 10],\n",
    "          'Google Phone': [600, 8],\n",
    "          'Vareebadd Phone': [400, 3],\n",
    "          '20in Monitor': [109.99,6],\n",
    "          '34in Ultrawide Monitor': [379.99, 9],\n",
    "          '27in 4K Gaming Monitor': [389.99,9],\n",
    "          '27in FHD Monitor': [149.99, 11],\n",
    "          'Flatscreen TV': [300, 7],\n",
    "          'Macbook Pro Laptop': [1700, 7],\n",
    "          'ThinkPad Laptop': [999.99, 6],\n",
    "          'AA Batteries (4-pack)': [3.84, 30],\n",
    "          'AAA Batteries (4-pack)': [2.99, 30],\n",
    "          'USB-C Charging Cable': [11.95, 30],\n",
    "          'Lightning Charging Cable': [14.95, 30],\n",
    "          'Wired Headphones': [11.99, 26],\n",
    "          'Bose SoundSport Headphones': [99.99, 19],\n",
    "          'Apple Airpods Headphones': [150, 22],\n",
    "          'LG Washing Machine': [600.00, 1],\n",
    "          'LG Dryer': [600.00, 1]\n",
    "            }\n",
    "\n",
    "columns=['Order Id','Product','Quantity Ordered','Price Each','Order Data','Purchase Address']\n",
    "\n",
    "df=pd.DataFrame(columns=columns)\n",
    "\n",
    "\n",
    "for month_value in range(1,13):\n",
    "    for i in range(1000):\n",
    "        product_list=[product for product in products]\n",
    "        weight=[products[product][1] for product in products]\n",
    "        product=random.choices(product_list,weights=weight)[0]#This is because it returns as a list of entry1. thats why 0 indexing is done.\n",
    "        #additional paramater that can be passed is k, which is the number of things we want.\n",
    "        price=products[product]\n",
    "        df.loc[i]=[i,product,1,price,\"NA\",\"NA\"]\n",
    "    \n",
    "    month_name=calender.month_name[month_value]\n",
    "    df.to_csv(f\"{month_name}_data.csv\")\n",
    "\n"
   ]
  },
  {
   "cell_type": "code",
   "execution_count": null,
   "id": "4c75d7ed",
   "metadata": {},
   "outputs": [],
   "source": []
  }
 ],
 "metadata": {
  "kernelspec": {
   "display_name": "Python 3 (ipykernel)",
   "language": "python",
   "name": "python3"
  },
  "language_info": {
   "codemirror_mode": {
    "name": "ipython",
    "version": 3
   },
   "file_extension": ".py",
   "mimetype": "text/x-python",
   "name": "python",
   "nbconvert_exporter": "python",
   "pygments_lexer": "ipython3",
   "version": "3.9.7"
  }
 },
 "nbformat": 4,
 "nbformat_minor": 5
}

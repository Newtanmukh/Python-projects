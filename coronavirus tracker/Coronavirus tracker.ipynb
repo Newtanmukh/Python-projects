{
 "cells": [
  {
   "cell_type": "code",
   "execution_count": 2,
   "id": "ce2d5b4f",
   "metadata": {},
   "outputs": [],
   "source": [
    "from plyer import notification\n",
    "\n",
    "def notifyMe(title,message):\n",
    "    notification.notify(\n",
    "    title=title,\n",
    "    message=message,\n",
    "    app_icon=None,\n",
    "    timeout=3        #timeout is 3 seconds, means that notification will stay there for 3 seconds straight\n",
    "    )\n",
    "    \n",
    "if __name__==\"__main__\":\n",
    "    notifyMe(\"newton\",\"never give up\")\n",
    "\n",
    "\n",
    "\n"
   ]
  },
  {
   "cell_type": "code",
   "execution_count": null,
   "id": "8a383af8",
   "metadata": {},
   "outputs": [],
   "source": []
  }
 ],
 "metadata": {
  "kernelspec": {
   "display_name": "Python 3 (ipykernel)",
   "language": "python",
   "name": "python3"
  },
  "language_info": {
   "codemirror_mode": {
    "name": "ipython",
    "version": 3
   },
   "file_extension": ".py",
   "mimetype": "text/x-python",
   "name": "python",
   "nbconvert_exporter": "python",
   "pygments_lexer": "ipython3",
   "version": "3.9.7"
  }
 },
 "nbformat": 4,
 "nbformat_minor": 5
}

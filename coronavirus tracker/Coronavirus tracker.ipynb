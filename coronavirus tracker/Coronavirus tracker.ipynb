{
 "cells": [
  {
   "cell_type": "code",
   "execution_count": 16,
   "id": "65b7430e",
   "metadata": {},
   "outputs": [],
   "source": [
    "from plyer import notification\n",
    "import requests\n",
    "from bs4 import BeautifulSoup\n",
    "\n",
    "\n",
    "\n",
    "def getData(url):\n",
    "    r=requests.get(url)\n",
    "    return r.text\n",
    "\n",
    "def notifyMe(title,message):\n",
    "    notification.notify(\n",
    "    title=title,\n",
    "    message=message,\n",
    "    app_icon=\"E:\\python projects\\Python-projects\\coronavirus tracker\\coronavirus.ico\",\n",
    "    timeout=3        #timeout is 3 seconds, means that notification will stay there for 3 seconds straight\n",
    "    )\n",
    "\n",
    "    \n",
    "if __name__==\"__main__\":\n",
    "    notifyMe(\"newton\",\"never give up\")\n",
    "    myHtmlData=getData('https://www.mohfw.gov.in/')\n",
    "    \n",
    "    soup=BeautifulSoup(myHtmlData,'html.parser')\n",
    "    #print(soup.prettify())\n",
    "    for table in soup.find_all('tbody'):\n",
    "        print(table.get_text())\n",
    "\n",
    "\n",
    "\n"
   ]
  },
  {
   "cell_type": "code",
   "execution_count": 17,
   "id": "4a97dddb",
   "metadata": {},
   "outputs": [
    {
     "ename": "IndexError",
     "evalue": "list index out of range",
     "output_type": "error",
     "traceback": [
      "\u001b[1;31m---------------------------------------------------------------------------\u001b[0m",
      "\u001b[1;31mIndexError\u001b[0m                                Traceback (most recent call last)",
      "\u001b[1;32m~\\AppData\\Local\\Temp/ipykernel_3476/478083456.py\u001b[0m in \u001b[0;36m<module>\u001b[1;34m\u001b[0m\n\u001b[0;32m     26\u001b[0m         \u001b[1;31m# print(soup.prettify())\u001b[0m\u001b[1;33m\u001b[0m\u001b[1;33m\u001b[0m\u001b[0m\n\u001b[0;32m     27\u001b[0m         \u001b[0mmyDataStr\u001b[0m \u001b[1;33m=\u001b[0m \u001b[1;34m\"\"\u001b[0m\u001b[1;33m\u001b[0m\u001b[1;33m\u001b[0m\u001b[0m\n\u001b[1;32m---> 28\u001b[1;33m         \u001b[1;32mfor\u001b[0m \u001b[0mtr\u001b[0m \u001b[1;32min\u001b[0m \u001b[0msoup\u001b[0m\u001b[1;33m.\u001b[0m\u001b[0mfind_all\u001b[0m\u001b[1;33m(\u001b[0m\u001b[1;34m'tbody'\u001b[0m\u001b[1;33m)\u001b[0m\u001b[1;33m[\u001b[0m\u001b[1;36m1\u001b[0m\u001b[1;33m]\u001b[0m\u001b[1;33m.\u001b[0m\u001b[0mfind_all\u001b[0m\u001b[1;33m(\u001b[0m\u001b[1;34m'tr'\u001b[0m\u001b[1;33m)\u001b[0m\u001b[1;33m:\u001b[0m\u001b[1;33m\u001b[0m\u001b[1;33m\u001b[0m\u001b[0m\n\u001b[0m\u001b[0;32m     29\u001b[0m             \u001b[0mmyDataStr\u001b[0m \u001b[1;33m+=\u001b[0m \u001b[0mtr\u001b[0m\u001b[1;33m.\u001b[0m\u001b[0mget_text\u001b[0m\u001b[1;33m(\u001b[0m\u001b[1;33m)\u001b[0m\u001b[1;33m\u001b[0m\u001b[1;33m\u001b[0m\u001b[0m\n\u001b[0;32m     30\u001b[0m         \u001b[0mmyDataStr\u001b[0m \u001b[1;33m=\u001b[0m \u001b[0mmyDataStr\u001b[0m\u001b[1;33m[\u001b[0m\u001b[1;36m1\u001b[0m\u001b[1;33m:\u001b[0m\u001b[1;33m]\u001b[0m\u001b[1;33m\u001b[0m\u001b[1;33m\u001b[0m\u001b[0m\n",
      "\u001b[1;31mIndexError\u001b[0m: list index out of range"
     ]
    }
   ],
   "source": [
    "from plyer import notification\n",
    "import requests\n",
    "from bs4 import BeautifulSoup\n",
    "import time\n",
    "\n",
    "def notifyMe(title, message):\n",
    "    notification.notify(\n",
    "        title = title,\n",
    "        message = message,\n",
    "        app_icon = \"E:\\python projects\\Python-projects\\coronavirus tracker\\coronavirus.ico\",\n",
    "        timeout = 6\n",
    "    )\n",
    "\n",
    "\n",
    "def getData(url):\n",
    "    r = requests.get(url)\n",
    "    return r.text\n",
    "\n",
    "\n",
    "if __name__ == \"__main__\":\n",
    "    while True:\n",
    "        # notifyMe(\"Harry\", \"Lets stop the spread of this virus together\")\n",
    "        myHtmlData = getData('https://www.mohfw.gov.in/')\n",
    "\n",
    "        soup = BeautifulSoup(myHtmlData, 'html.parser')\n",
    "        # print(soup.prettify())\n",
    "        myDataStr = \"\"\n",
    "        for tr in soup.find_all('tbody')[1].find_all('tr'):\n",
    "            myDataStr += tr.get_text()\n",
    "        myDataStr = myDataStr[1:]\n",
    "        itemList = myDataStr.split(\"\\n\\n\")\n",
    "\n",
    "        states = ['Chandigarh', 'Telengana', 'Uttar Pradesh']\n",
    "        for item in itemList[0:22]:\n",
    "            dataList = item.split('\\n')\n",
    "            if dataList[1] in states: \n",
    "                nTitle = 'Cases of Covid-19'\n",
    "                nText = f\"State {dataList[1]}\\nIndian : {dataList[2]} & Foreign : {dataList[3]}\\nCured :  {dataList[4]}\\nDeaths :  {dataList[5]}\"\n",
    "                notifyMe(nTitle, nText)\n",
    "                time.sleep(2)\n",
    "        time.sleep(3600)"
   ]
  },
  {
   "cell_type": "code",
   "execution_count": null,
   "id": "00c63520",
   "metadata": {},
   "outputs": [],
   "source": []
  }
 ],
 "metadata": {
  "kernelspec": {
   "display_name": "Python 3 (ipykernel)",
   "language": "python",
   "name": "python3"
  },
  "language_info": {
   "codemirror_mode": {
    "name": "ipython",
    "version": 3
   },
   "file_extension": ".py",
   "mimetype": "text/x-python",
   "name": "python",
   "nbconvert_exporter": "python",
   "pygments_lexer": "ipython3",
   "version": "3.9.7"
  }
 },
 "nbformat": 4,
 "nbformat_minor": 5
}

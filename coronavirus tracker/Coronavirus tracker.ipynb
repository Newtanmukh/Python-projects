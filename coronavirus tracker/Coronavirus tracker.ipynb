{
 "cells": [
  {
   "cell_type": "code",
   "execution_count": 16,
   "id": "65b7430e",
   "metadata": {},
   "outputs": [],
   "source": [
    "from plyer import notification\n",
    "import requests\n",
    "from bs4 import BeautifulSoup\n",
    "\n",
    "\n",
    "\n",
    "def getData(url):\n",
    "    r=requests.get(url)\n",
    "    return r.text\n",
    "\n",
    "def notifyMe(title,message):\n",
    "    notification.notify(\n",
    "    title=title,\n",
    "    message=message,\n",
    "    app_icon=\"E:\\python projects\\Python-projects\\coronavirus tracker\\coronavirus.ico\",\n",
    "    timeout=3        #timeout is 3 seconds, means that notification will stay there for 3 seconds straight\n",
    "    )\n",
    "\n",
    "    \n",
    "if __name__==\"__main__\":\n",
    "    notifyMe(\"newton\",\"never give up\")\n",
    "    myHtmlData=getData('https://www.mohfw.gov.in/')\n",
    "    \n",
    "    soup=BeautifulSoup(myHtmlData,'html.parser')\n",
    "    #print(soup.prettify())\n",
    "    for table in soup.find_all('tbody'):\n",
    "        print(table.get_text())\n",
    "\n",
    "\n",
    "\n"
   ]
  },
  {
   "cell_type": "code",
   "execution_count": null,
   "id": "b2a4dceb",
   "metadata": {},
   "outputs": [],
   "source": []
  }
 ],
 "metadata": {
  "kernelspec": {
   "display_name": "Python 3 (ipykernel)",
   "language": "python",
   "name": "python3"
  },
  "language_info": {
   "codemirror_mode": {
    "name": "ipython",
    "version": 3
   },
   "file_extension": ".py",
   "mimetype": "text/x-python",
   "name": "python",
   "nbconvert_exporter": "python",
   "pygments_lexer": "ipython3",
   "version": "3.9.7"
  }
 },
 "nbformat": 4,
 "nbformat_minor": 5
}
